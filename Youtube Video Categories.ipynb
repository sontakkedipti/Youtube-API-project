{
 "cells": [
  {
   "cell_type": "code",
   "execution_count": 1,
   "id": "db3553b3",
   "metadata": {},
   "outputs": [],
   "source": [
    "import os\n",
    "import pandas as pd\n",
    "from tabulate import tabulate\n",
    "import json\n",
    "from pprint import pprint"
   ]
  },
  {
   "cell_type": "code",
   "execution_count": 3,
   "id": "adf02abe",
   "metadata": {},
   "outputs": [],
   "source": [
    "vidcat = [['id', 'category'],\n",
    "          [1, 'Film & Animation'],\n",
    "          [2, 'Autos & Vehicles'],\n",
    "          [10, 'Music'],\n",
    "          [15, 'Pets & Animals'],\n",
    "          [17, 'Sports'],\n",
    "          [18, 'Short Movies'],\n",
    "          [19, 'Travel & Events'],\n",
    "          [20, 'Gaming'],\n",
    "          [21, 'Videoblogging'],\n",
    "          [22, 'People & Blogs'],\n",
    "          [23, 'Comedy'],\n",
    "          [24, 'Entertainment'],\n",
    "          [25, 'News & Politics'],\n",
    "          [26, 'Howto & Style'],\n",
    "          [27, 'Education'],\n",
    "          [28, 'Science & Technology'],\n",
    "          [29, 'Nonprofits & Activism'],\n",
    "          [30, 'Movies'],\n",
    "          [31, 'Anime/Animation'],\n",
    "          [32, 'Action/Adventure'],\n",
    "          [33, 'Classics'],\n",
    "          [34, 'Comedy'],\n",
    "          [35, 'Documentary'],\n",
    "          [36, 'Drama'],\n",
    "          [37, 'Family'],\n",
    "          [38, 'Foreign'],\n",
    "          [39, 'Horror'],\n",
    "          [40, 'Sci-Fi/Fantasy'],\n",
    "          [41, 'Thriller'],\n",
    "          [42, 'Shorts'],\n",
    "          [43, 'Shows'],\n",
    "          [44, 'Trailers'],\n",
    "         ]"
   ]
  },
  {
   "cell_type": "code",
   "execution_count": null,
   "id": "3e8ac246",
   "metadata": {},
   "outputs": [],
   "source": []
  },
  {
   "cell_type": "code",
   "execution_count": null,
   "id": "218e8357",
   "metadata": {
    "scrolled": true
   },
   "outputs": [],
   "source": []
  },
  {
   "cell_type": "code",
   "execution_count": null,
   "id": "28a360b0",
   "metadata": {},
   "outputs": [],
   "source": []
  },
  {
   "cell_type": "code",
   "execution_count": null,
   "id": "bc7c48b2",
   "metadata": {},
   "outputs": [],
   "source": []
  },
  {
   "cell_type": "code",
   "execution_count": null,
   "id": "f94b219c",
   "metadata": {},
   "outputs": [],
   "source": []
  },
  {
   "cell_type": "code",
   "execution_count": null,
   "id": "905e552f",
   "metadata": {
    "scrolled": true
   },
   "outputs": [],
   "source": []
  },
  {
   "cell_type": "code",
   "execution_count": null,
   "id": "ffe290a2",
   "metadata": {},
   "outputs": [],
   "source": []
  },
  {
   "cell_type": "code",
   "execution_count": null,
   "id": "888af370",
   "metadata": {},
   "outputs": [],
   "source": []
  },
  {
   "cell_type": "code",
   "execution_count": null,
   "id": "cc2bfe8d",
   "metadata": {},
   "outputs": [],
   "source": []
  }
 ],
 "metadata": {
  "kernelspec": {
   "display_name": "Python 3 (ipykernel)",
   "language": "python",
   "name": "python3"
  },
  "language_info": {
   "codemirror_mode": {
    "name": "ipython",
    "version": 3
   },
   "file_extension": ".py",
   "mimetype": "text/x-python",
   "name": "python",
   "nbconvert_exporter": "python",
   "pygments_lexer": "ipython3",
   "version": "3.9.12"
  }
 },
 "nbformat": 4,
 "nbformat_minor": 5
}
